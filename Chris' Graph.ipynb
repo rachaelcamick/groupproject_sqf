{
 "cells": [
  {
   "cell_type": "code",
   "execution_count": 1,
   "metadata": {},
   "outputs": [],
   "source": [
    "# Dependencies\n",
    "import numpy as np\n",
    "import pandas as pd\n",
    "import matplotlib.pyplot as plt\n",
    "import csv\n",
    "import os"
   ]
  },
  {
   "cell_type": "code",
   "execution_count": 2,
   "metadata": {},
   "outputs": [],
   "source": [
    "#path to csv files\n",
    "day_of_week = \"df_reduced.csv\""
   ]
  },
  {
   "cell_type": "code",
   "execution_count": 3,
   "metadata": {},
   "outputs": [],
   "source": [
    "day_of_week = pd.read_csv(day_of_week, low_memory=False)"
   ]
  },
  {
   "cell_type": "code",
   "execution_count": 4,
   "metadata": {},
   "outputs": [
    {
     "data": {
      "text/html": [
       "<div>\n",
       "<style scoped>\n",
       "    .dataframe tbody tr th:only-of-type {\n",
       "        vertical-align: middle;\n",
       "    }\n",
       "\n",
       "    .dataframe tbody tr th {\n",
       "        vertical-align: top;\n",
       "    }\n",
       "\n",
       "    .dataframe thead th {\n",
       "        text-align: right;\n",
       "    }\n",
       "</style>\n",
       "<table border=\"1\" class=\"dataframe\">\n",
       "  <thead>\n",
       "    <tr style=\"text-align: right;\">\n",
       "      <th></th>\n",
       "      <th>STOP_FRISK_ID</th>\n",
       "      <th>STOP_FRISK_TIME</th>\n",
       "      <th>MONTH2</th>\n",
       "      <th>DAY2</th>\n",
       "      <th>SUSPECTED_CRIME_DESCRIPTION</th>\n",
       "      <th>STOP_DURATION_MINUTES</th>\n",
       "      <th>SUSPECT_ARRESTED_FLAG</th>\n",
       "      <th>FRISKED_FLAG</th>\n",
       "      <th>PHYSICAL_FORCE_WEAPON_IMPACT_FLAG</th>\n",
       "      <th>SUSPECT_REPORTED_AGE</th>\n",
       "      <th>SUSPECT_SEX</th>\n",
       "      <th>SUSPECT_RACE_DESCRIPTION</th>\n",
       "      <th>STOP_LOCATION_BORO_NAME</th>\n",
       "    </tr>\n",
       "  </thead>\n",
       "  <tbody>\n",
       "    <tr>\n",
       "      <th>0</th>\n",
       "      <td>1</td>\n",
       "      <td>14:26:00</td>\n",
       "      <td>January</td>\n",
       "      <td>Monday</td>\n",
       "      <td>TERRORISM</td>\n",
       "      <td>90</td>\n",
       "      <td>N</td>\n",
       "      <td>N</td>\n",
       "      <td>(null)</td>\n",
       "      <td>39</td>\n",
       "      <td>MALE</td>\n",
       "      <td>(null)</td>\n",
       "      <td>MANHATTAN</td>\n",
       "    </tr>\n",
       "    <tr>\n",
       "      <th>1</th>\n",
       "      <td>2</td>\n",
       "      <td>14:26:00</td>\n",
       "      <td>January</td>\n",
       "      <td>Monday</td>\n",
       "      <td>TERRORISM</td>\n",
       "      <td>90</td>\n",
       "      <td>N</td>\n",
       "      <td>N</td>\n",
       "      <td>(null)</td>\n",
       "      <td>37</td>\n",
       "      <td>MALE</td>\n",
       "      <td>(null)</td>\n",
       "      <td>MANHATTAN</td>\n",
       "    </tr>\n",
       "    <tr>\n",
       "      <th>2</th>\n",
       "      <td>3</td>\n",
       "      <td>11:10:00</td>\n",
       "      <td>February</td>\n",
       "      <td>Wednesday</td>\n",
       "      <td>OTHER</td>\n",
       "      <td>40</td>\n",
       "      <td>N</td>\n",
       "      <td>N</td>\n",
       "      <td>(null)</td>\n",
       "      <td>(null)</td>\n",
       "      <td>FEMALE</td>\n",
       "      <td>WHITE</td>\n",
       "      <td>MANHATTAN</td>\n",
       "    </tr>\n",
       "    <tr>\n",
       "      <th>3</th>\n",
       "      <td>4</td>\n",
       "      <td>11:35:00</td>\n",
       "      <td>February</td>\n",
       "      <td>Monday</td>\n",
       "      <td>GRAND LARCENY AUTO</td>\n",
       "      <td>40</td>\n",
       "      <td>N</td>\n",
       "      <td>Y</td>\n",
       "      <td>(null)</td>\n",
       "      <td>31</td>\n",
       "      <td>MALE</td>\n",
       "      <td>BLACK HISPANIC</td>\n",
       "      <td>MANHATTAN</td>\n",
       "    </tr>\n",
       "    <tr>\n",
       "      <th>4</th>\n",
       "      <td>5</td>\n",
       "      <td>13:20:00</td>\n",
       "      <td>February</td>\n",
       "      <td>Tuesday</td>\n",
       "      <td>BURGLARY</td>\n",
       "      <td>60</td>\n",
       "      <td>N</td>\n",
       "      <td>N</td>\n",
       "      <td>(null)</td>\n",
       "      <td>(null)</td>\n",
       "      <td>FEMALE</td>\n",
       "      <td>BLACK</td>\n",
       "      <td>MANHATTAN</td>\n",
       "    </tr>\n",
       "  </tbody>\n",
       "</table>\n",
       "</div>"
      ],
      "text/plain": [
       "   STOP_FRISK_ID STOP_FRISK_TIME    MONTH2       DAY2  \\\n",
       "0              1        14:26:00   January     Monday   \n",
       "1              2        14:26:00   January     Monday   \n",
       "2              3        11:10:00  February  Wednesday   \n",
       "3              4        11:35:00  February     Monday   \n",
       "4              5        13:20:00  February    Tuesday   \n",
       "\n",
       "  SUSPECTED_CRIME_DESCRIPTION  STOP_DURATION_MINUTES SUSPECT_ARRESTED_FLAG  \\\n",
       "0                   TERRORISM                     90                     N   \n",
       "1                   TERRORISM                     90                     N   \n",
       "2                       OTHER                     40                     N   \n",
       "3          GRAND LARCENY AUTO                     40                     N   \n",
       "4                    BURGLARY                     60                     N   \n",
       "\n",
       "  FRISKED_FLAG PHYSICAL_FORCE_WEAPON_IMPACT_FLAG SUSPECT_REPORTED_AGE  \\\n",
       "0            N                            (null)                   39   \n",
       "1            N                            (null)                   37   \n",
       "2            N                            (null)               (null)   \n",
       "3            Y                            (null)                   31   \n",
       "4            N                            (null)               (null)   \n",
       "\n",
       "  SUSPECT_SEX SUSPECT_RACE_DESCRIPTION STOP_LOCATION_BORO_NAME  \n",
       "0        MALE                   (null)               MANHATTAN  \n",
       "1        MALE                   (null)               MANHATTAN  \n",
       "2      FEMALE                    WHITE               MANHATTAN  \n",
       "3        MALE           BLACK HISPANIC               MANHATTAN  \n",
       "4      FEMALE                    BLACK               MANHATTAN  "
      ]
     },
     "execution_count": 4,
     "metadata": {},
     "output_type": "execute_result"
    }
   ],
   "source": [
    "day_of_week.head()"
   ]
  },
  {
   "cell_type": "code",
   "execution_count": 5,
   "metadata": {},
   "outputs": [
    {
     "data": {
      "text/plain": [
       "Thursday     1801\n",
       "Wednesday    1799\n",
       "Saturday     1797\n",
       "Tuesday      1721\n",
       "Friday       1704\n",
       "Sunday       1490\n",
       "Monday       1317\n",
       "Name: DAY2, dtype: int64"
      ]
     },
     "execution_count": 5,
     "metadata": {},
     "output_type": "execute_result"
    }
   ],
   "source": [
    "day_of_week[\"DAY2\"].value_counts()"
   ]
  },
  {
   "cell_type": "code",
   "execution_count": 6,
   "metadata": {},
   "outputs": [
    {
     "data": {
      "text/plain": [
       "1317"
      ]
     },
     "execution_count": 6,
     "metadata": {},
     "output_type": "execute_result"
    }
   ],
   "source": [
    "day_count = day_of_week[\"DAY2\"].value_counts()\n",
    "day_count.loc[\"Monday\"]"
   ]
  },
  {
   "cell_type": "code",
   "execution_count": 7,
   "metadata": {},
   "outputs": [],
   "source": [
    "days_of_week_order = [\"Monday\", \"Tuesday\", \"Wednesday\", \"Thursday\", \"Friday\", \"Saturday\", \"Sunday\"]"
   ]
  },
  {
   "cell_type": "code",
   "execution_count": 8,
   "metadata": {},
   "outputs": [
    {
     "name": "stderr",
     "output_type": "stream",
     "text": [
      "/Users/Chad/anaconda3/lib/python3.6/site-packages/matplotlib/axes/_base.py:3449: MatplotlibDeprecationWarning: \n",
      "The `ymin` argument was deprecated in Matplotlib 3.0 and will be removed in 3.2. Use `bottom` instead.\n",
      "  alternative='`bottom`', obj_type='argument')\n"
     ]
    },
    {
     "data": {
      "image/png": "[encoded data removed]",
      "text/plain": [
       "<Figure size 432x288 with 1 Axes>"
      ]
     },
     "metadata": {
      "needs_background": "light"
     },
     "output_type": "display_data"
    }
   ],
   "source": [
    "# Give our chart some labels and a title\n",
    "plt.title(\"NYC Stop and Frisk Incidents\")\n",
    "plt.xlabel(\"Day of Week\")\n",
    "plt.ylabel(\"Number of Stop and Frisks\")\n",
    "day_count.loc[days_of_week_order].plot(kind=\"bar\")\n",
    "#Make chart more dramatic so start at 1,000\n",
    "plt.ylim(ymin=1000)\n",
    "plt.savefig(\"Stop_and_Frisk_Incidents.png\", bbox_inches=\"tight\", dpi=600)\n",
    "plt.show()"
   ]
  },
  {
   "cell_type": "code",
   "execution_count": 9,
   "metadata": {},
   "outputs": [
    {
     "data": {
      "text/plain": [
       "October      1098\n",
       "April        1097\n",
       "January      1078\n",
       "March        1067\n",
       "February     1066\n",
       "May           974\n",
       "June          955\n",
       "November      940\n",
       "July          909\n",
       "August        904\n",
       "September     832\n",
       "December      709\n",
       "Name: MONTH2, dtype: int64"
      ]
     },
     "execution_count": 9,
     "metadata": {},
     "output_type": "execute_result"
    }
   ],
   "source": [
    "day_of_week[\"MONTH2\"].value_counts()"
   ]
  },
  {
   "cell_type": "code",
   "execution_count": 10,
   "metadata": {},
   "outputs": [
    {
     "data": {
      "text/plain": [
       "1078"
      ]
     },
     "execution_count": 10,
     "metadata": {},
     "output_type": "execute_result"
    }
   ],
   "source": [
    "month_count = day_of_week[\"MONTH2\"].value_counts()\n",
    "month_count.loc[\"January\"]"
   ]
  },
  {
   "cell_type": "code",
   "execution_count": 11,
   "metadata": {},
   "outputs": [],
   "source": [
    "month_order = [\"January\", \"February\", \"March\", \"April\", \"May\", \"June\", \"July\", \"August\", \"September\", \"October\", \"November\", \"December\"]"
   ]
  },
  {
   "cell_type": "code",
   "execution_count": 12,
   "metadata": {},
   "outputs": [
    {
     "data": {
      "image/png": "[encoded data removed]",
      "text/plain": [
       "<Figure size 432x288 with 1 Axes>"
      ]
     },
     "metadata": {
      "needs_background": "light"
     },
     "output_type": "display_data"
    }
   ],
   "source": [
    "# Give our chart some labels and a title\n",
    "plt.title(\"NYC Stop and Frisk Incidents (Months)\")\n",
    "plt.xlabel(\"Month\")\n",
    "plt.ylabel(\"Number of Stop and Frisks\")\n",
    "month_count.loc[month_order].plot(kind=\"line\", marker=\"o\")\n",
    "plt.xticks(np.arange(12), (\"January\", \"February\", \"March\", \"April\", \"May\", \"June\", \"July\", \"August\", \"September\", \"October\", \"November\", \"December\"), rotation=90)\n",
    "plt.savefig(\"Stop_and_Frisk_Incidents_Months.png\", bbox_inches=\"tight\", dpi=600)\n",
    "plt.show()"
   ]
  },
  {
   "cell_type": "code",
   "execution_count": null,
   "metadata": {},
   "outputs": [],
   "source": []
  }
 ],
 "metadata": {
  "kernelspec": {
   "display_name": "Python 3",
   "language": "python",
   "name": "python3"
  },
  "language_info": {
   "codemirror_mode": {
    "name": "ipython",
    "version": 3
   },
   "file_extension": ".py",
   "mimetype": "text/x-python",
   "name": "python",
   "nbconvert_exporter": "python",
   "pygments_lexer": "ipython3",
   "version": "3.6.6"
  }
 },
 "nbformat": 4,
 "nbformat_minor": 2
}
