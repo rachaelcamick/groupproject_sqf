{
 "cells": [
  {
   "cell_type": "code",
   "execution_count": 1,
   "metadata": {},
   "outputs": [],
   "source": [
    "%matplotlib inline\n",
    "import pandas as pd\n",
    "import matplotlib.pyplot as plt\n",
    "import numpy as np"
   ]
  },
  {
   "cell_type": "code",
   "execution_count": 2,
   "metadata": {},
   "outputs": [],
   "source": [
    "#path to csv files\n",
    "sf_2017 = \"2017_StopFrisk.csv\""
   ]
  },
  {
   "cell_type": "code",
   "execution_count": 38,
   "metadata": {
    "scrolled": true
   },
   "outputs": [],
   "source": [
    "df_2017 = pd.read_csv(sf_2017)"
   ]
  },
  {
   "cell_type": "code",
   "execution_count": 39,
   "metadata": {},
   "outputs": [
    {
     "data": {
      "text/html": [
       "<div>\n",
       "<style scoped>\n",
       "    .dataframe tbody tr th:only-of-type {\n",
       "        vertical-align: middle;\n",
       "    }\n",
       "\n",
       "    .dataframe tbody tr th {\n",
       "        vertical-align: top;\n",
       "    }\n",
       "\n",
       "    .dataframe thead th {\n",
       "        text-align: right;\n",
       "    }\n",
       "</style>\n",
       "<table border=\"1\" class=\"dataframe\">\n",
       "  <thead>\n",
       "    <tr style=\"text-align: right;\">\n",
       "      <th></th>\n",
       "      <th>STOP_FRISK_ID</th>\n",
       "      <th>STOP_FRISK_DATE</th>\n",
       "      <th>STOP_FRISK_TIME</th>\n",
       "      <th>YEAR2</th>\n",
       "      <th>MONTH2</th>\n",
       "      <th>DAY2</th>\n",
       "      <th>STOP_WAS_INITIATED</th>\n",
       "      <th>SPRINT_NUMBER</th>\n",
       "      <th>RECORD_STATUS_CODE</th>\n",
       "      <th>ISSUING_OFFICER_RANK</th>\n",
       "      <th>...</th>\n",
       "      <th>STOP_LOCATION_SECTOR_CODE</th>\n",
       "      <th>STOP_LOCATION_APARTMENT</th>\n",
       "      <th>STOP_LOCATION_FULL_ADDRESS</th>\n",
       "      <th>STOP_LOCATION_PREMISES_NAME</th>\n",
       "      <th>STOP_LOCATION_STREET_NAME</th>\n",
       "      <th>STOP_LOCATION_X</th>\n",
       "      <th>STOP_LOCATION_Y</th>\n",
       "      <th>STOP_LOCATION_ZIP_CODE</th>\n",
       "      <th>STOP_LOCATION_PATROL_BORO_NAME</th>\n",
       "      <th>STOP_LOCATION_BORO_NAME</th>\n",
       "    </tr>\n",
       "  </thead>\n",
       "  <tbody>\n",
       "    <tr>\n",
       "      <th>0</th>\n",
       "      <td>1</td>\n",
       "      <td>1/16/2017</td>\n",
       "      <td>14:26:00</td>\n",
       "      <td>2017</td>\n",
       "      <td>January</td>\n",
       "      <td>Monday</td>\n",
       "      <td>Based on Self Initiated</td>\n",
       "      <td>11617924</td>\n",
       "      <td>APP</td>\n",
       "      <td>SGT</td>\n",
       "      <td>...</td>\n",
       "      <td>(null)</td>\n",
       "      <td>(null)</td>\n",
       "      <td>180 GREENWICH STREET</td>\n",
       "      <td>(null)</td>\n",
       "      <td>GREENWICH STREET</td>\n",
       "      <td>982381</td>\n",
       "      <td>201750</td>\n",
       "      <td>(null)</td>\n",
       "      <td>PBMS</td>\n",
       "      <td>MANHATTAN</td>\n",
       "    </tr>\n",
       "    <tr>\n",
       "      <th>1</th>\n",
       "      <td>2</td>\n",
       "      <td>1/16/2017</td>\n",
       "      <td>14:26:00</td>\n",
       "      <td>2017</td>\n",
       "      <td>January</td>\n",
       "      <td>Monday</td>\n",
       "      <td>Based on Self Initiated</td>\n",
       "      <td>11617924</td>\n",
       "      <td>APP</td>\n",
       "      <td>SGT</td>\n",
       "      <td>...</td>\n",
       "      <td>(null)</td>\n",
       "      <td>(null)</td>\n",
       "      <td>180 GREENWICH STREET</td>\n",
       "      <td>(null)</td>\n",
       "      <td>GREENWICH STREET</td>\n",
       "      <td>982381</td>\n",
       "      <td>201750</td>\n",
       "      <td>(null)</td>\n",
       "      <td>PBMS</td>\n",
       "      <td>MANHATTAN</td>\n",
       "    </tr>\n",
       "    <tr>\n",
       "      <th>2</th>\n",
       "      <td>3</td>\n",
       "      <td>2/8/2017</td>\n",
       "      <td>11:10:00</td>\n",
       "      <td>2017</td>\n",
       "      <td>February</td>\n",
       "      <td>Wednesday</td>\n",
       "      <td>Based on C/W on Scene</td>\n",
       "      <td>17020808555</td>\n",
       "      <td>APP</td>\n",
       "      <td>POM</td>\n",
       "      <td>...</td>\n",
       "      <td>C</td>\n",
       "      <td>(null)</td>\n",
       "      <td>WALL STREET &amp;&amp; BROADWAY</td>\n",
       "      <td>(null)</td>\n",
       "      <td>WALL STREET</td>\n",
       "      <td>981005</td>\n",
       "      <td>197131</td>\n",
       "      <td>(null)</td>\n",
       "      <td>PBMS</td>\n",
       "      <td>MANHATTAN</td>\n",
       "    </tr>\n",
       "    <tr>\n",
       "      <th>3</th>\n",
       "      <td>4</td>\n",
       "      <td>2/20/2017</td>\n",
       "      <td>11:35:00</td>\n",
       "      <td>2017</td>\n",
       "      <td>February</td>\n",
       "      <td>Monday</td>\n",
       "      <td>Based on Self Initiated</td>\n",
       "      <td>9027</td>\n",
       "      <td>APP</td>\n",
       "      <td>POM</td>\n",
       "      <td>...</td>\n",
       "      <td>H</td>\n",
       "      <td>(null)</td>\n",
       "      <td>75 GREENE STREET</td>\n",
       "      <td>(null)</td>\n",
       "      <td>GREENE STREET</td>\n",
       "      <td>984031</td>\n",
       "      <td>202796</td>\n",
       "      <td>(null)</td>\n",
       "      <td>PBMS</td>\n",
       "      <td>MANHATTAN</td>\n",
       "    </tr>\n",
       "    <tr>\n",
       "      <th>4</th>\n",
       "      <td>5</td>\n",
       "      <td>2/21/2017</td>\n",
       "      <td>13:20:00</td>\n",
       "      <td>2017</td>\n",
       "      <td>February</td>\n",
       "      <td>Tuesday</td>\n",
       "      <td>Based on Radio Run</td>\n",
       "      <td>10439</td>\n",
       "      <td>APP</td>\n",
       "      <td>POM</td>\n",
       "      <td>...</td>\n",
       "      <td>H</td>\n",
       "      <td>2</td>\n",
       "      <td>429 WEST BROADWAY</td>\n",
       "      <td>(null)</td>\n",
       "      <td>WEST BROADWAY</td>\n",
       "      <td>983894</td>\n",
       "      <td>203523</td>\n",
       "      <td>(null)</td>\n",
       "      <td>PBMS</td>\n",
       "      <td>MANHATTAN</td>\n",
       "    </tr>\n",
       "  </tbody>\n",
       "</table>\n",
       "<p>5 rows × 86 columns</p>\n",
       "</div>"
      ],
      "text/plain": [
       "   STOP_FRISK_ID STOP_FRISK_DATE STOP_FRISK_TIME  YEAR2    MONTH2       DAY2  \\\n",
       "0              1       1/16/2017        14:26:00   2017   January     Monday   \n",
       "1              2       1/16/2017        14:26:00   2017   January     Monday   \n",
       "2              3        2/8/2017        11:10:00   2017  February  Wednesday   \n",
       "3              4       2/20/2017        11:35:00   2017  February     Monday   \n",
       "4              5       2/21/2017        13:20:00   2017  February    Tuesday   \n",
       "\n",
       "        STOP_WAS_INITIATED SPRINT_NUMBER RECORD_STATUS_CODE  \\\n",
       "0  Based on Self Initiated      11617924                APP   \n",
       "1  Based on Self Initiated      11617924                APP   \n",
       "2    Based on C/W on Scene   17020808555                APP   \n",
       "3  Based on Self Initiated          9027                APP   \n",
       "4       Based on Radio Run         10439                APP   \n",
       "\n",
       "  ISSUING_OFFICER_RANK           ...             STOP_LOCATION_SECTOR_CODE  \\\n",
       "0                  SGT           ...                                (null)   \n",
       "1                  SGT           ...                                (null)   \n",
       "2                  POM           ...                                     C   \n",
       "3                  POM           ...                                     H   \n",
       "4                  POM           ...                                     H   \n",
       "\n",
       "  STOP_LOCATION_APARTMENT  STOP_LOCATION_FULL_ADDRESS  \\\n",
       "0                  (null)        180 GREENWICH STREET   \n",
       "1                  (null)        180 GREENWICH STREET   \n",
       "2                  (null)     WALL STREET && BROADWAY   \n",
       "3                  (null)            75 GREENE STREET   \n",
       "4                       2           429 WEST BROADWAY   \n",
       "\n",
       "  STOP_LOCATION_PREMISES_NAME STOP_LOCATION_STREET_NAME STOP_LOCATION_X  \\\n",
       "0                      (null)          GREENWICH STREET          982381   \n",
       "1                      (null)          GREENWICH STREET          982381   \n",
       "2                      (null)               WALL STREET          981005   \n",
       "3                      (null)             GREENE STREET          984031   \n",
       "4                      (null)             WEST BROADWAY          983894   \n",
       "\n",
       "  STOP_LOCATION_Y  STOP_LOCATION_ZIP_CODE STOP_LOCATION_PATROL_BORO_NAME  \\\n",
       "0          201750                  (null)                           PBMS   \n",
       "1          201750                  (null)                           PBMS   \n",
       "2          197131                  (null)                           PBMS   \n",
       "3          202796                  (null)                           PBMS   \n",
       "4          203523                  (null)                           PBMS   \n",
       "\n",
       "   STOP_LOCATION_BORO_NAME  \n",
       "0                MANHATTAN  \n",
       "1                MANHATTAN  \n",
       "2                MANHATTAN  \n",
       "3                MANHATTAN  \n",
       "4                MANHATTAN  \n",
       "\n",
       "[5 rows x 86 columns]"
      ]
     },
     "execution_count": 39,
     "metadata": {},
     "output_type": "execute_result"
    }
   ],
   "source": [
    "df_2017.head()"
   ]
  },
  {
   "cell_type": "code",
   "execution_count": 5,
   "metadata": {},
   "outputs": [
    {
     "data": {
      "text/plain": [
       "Index(['STOP_FRISK_ID', 'STOP_FRISK_DATE', 'STOP_FRISK_TIME', 'YEAR2',\n",
       "       'MONTH2', 'DAY2', 'STOP_WAS_INITIATED', 'SPRINT_NUMBER',\n",
       "       'RECORD_STATUS_CODE', 'ISSUING_OFFICER_RANK',\n",
       "       'ISSUING_OFFICER_COMMAND_CODE', 'SUPERVISING_OFFICER_RANK',\n",
       "       'SUPERVISING_OFFICER_COMMAND_CODE',\n",
       "       'SUPERVISING_ACTION_CORRESPONDING_ACTIVITY_LOG_ENTRY_REVIEWED',\n",
       "       'LOCATION_IN_OUT_CODE', 'JURISDICTION_CODE', 'JURISDICTION_DESCRIPTION',\n",
       "       'OBSERVED_DURATION_MINUTES', 'SUSPECTED_CRIME_DESCRIPTION',\n",
       "       'STOP_DURATION_MINUTES', 'OFFICER_EXPLAINED_STOP_FLAG',\n",
       "       'OFFICER_NOT_EXPLAINED_STOP_DESCRIPTION', 'OTHER_PERSON_STOPPED_FLAG',\n",
       "       'SUSPECT_ARRESTED_FLAG', 'SUSPECT_ARREST_NUMBER',\n",
       "       'SUSPECT_ARREST_OFFENSE', 'SUMMONS_ISSUED_FLAG', 'SUMMONS_NUMBER',\n",
       "       'SUMMONS_OFFENSE_DESCRIPTION', 'OFFICER_IN_UNIFORM_FLAG',\n",
       "       'ID_CARD_IDENTIFIES_OFFICER_FLAG', 'SHIELD_IDENTIFIES_OFFICER_FLAG',\n",
       "       'VERBAL_IDENTIFIES_OFFICER_FLAG', 'FRISKED_FLAG', 'SEARCHED_FLAG',\n",
       "       'OTHER_CONTRABAND_FLAG', 'FIREARM_FLAG', 'KNIFE_CUTTER_FLAG',\n",
       "       'OTHER_WEAPON_FLAG', 'WEAPON_FOUND_FLAG', 'PHYSICAL_FORCE_CEW_FLAG',\n",
       "       'PHYSICAL_FORCE_DRAW_POINT_FIREARM_FLAG',\n",
       "       'PHYSICAL_FORCE_HANDCUFF_SUSPECT_FLAG',\n",
       "       'PHYSICAL_FORCE_OC_SPRAY_USED_FLAG', 'PHYSICAL_FORCE_OTHER_FLAG',\n",
       "       'PHYSICAL_FORCE_RESTRAINT_USED_FLAG',\n",
       "       'PHYSICAL_FORCE_VERBAL_INSTRUCTION_FLAG',\n",
       "       'PHYSICAL_FORCE_WEAPON_IMPACT_FLAG',\n",
       "       'BACKROUND_CIRCUMSTANCES_VIOLENT_CRIME_FLAG',\n",
       "       'BACKROUND_CIRCUMSTANCES_SUSPECT_KNOWN_TO_CARRY_WEAPON_FLAG',\n",
       "       'SUSPECTS_ACTIONS_CASING_FLAG',\n",
       "       'SUSPECTS_ACTIONS_CONCEALED_POSSESSION_WEAPON_FLAG',\n",
       "       'SUSPECTS_ACTIONS_DECRIPTION_FLAG',\n",
       "       'SUSPECTS_ACTIONS_DRUG_TRANSACTIONS_FLAG',\n",
       "       'SUSPECTS_ACTIONS_IDENTIFY_CRIME_PATTERN_FLAG',\n",
       "       'SUSPECTS_ACTIONS_LOOKOUT_FLAG', 'SUSPECTS_ACTIONS_OTHER_FLAG',\n",
       "       'SUSPECTS_ACTIONS_PROXIMITY_TO_SCENE_FLAG',\n",
       "       'SEARCH_BASIS_ADMISSION_FLAG', 'SEARCH_BASIS_CONSENT_FLAG',\n",
       "       'SEARCH_BASIS_HARD_OBJECT_FLAG',\n",
       "       'SEARCH_BASIS_INCIDENTAL_TO_ARREST_FLAG', 'SEARCH_BASIS_OTHER_FLAG',\n",
       "       'SEARCH_BASIS_OUTLINE_FLAG', 'DEMEANOR_CODE',\n",
       "       'DEMEANOR_OF_PERSON_STOPPED', 'SUSPECT_REPORTED_AGE', 'SUSPECT_SEX',\n",
       "       'SUSPECT_RACE_DESCRIPTION', 'SUSPECT_HEIGHT', 'SUSPECT_WEIGHT',\n",
       "       'SUSPECT_BODY_BUILD_TYPE', 'SUSPECT_EYE_COLOR', 'SUSPECT_HAIR_COLOR',\n",
       "       'SUSPECT_OTHER_DESCRIPTION', 'STOP_LOCATION_PRECINCT',\n",
       "       'STOP_LOCATION_SECTOR_CODE', 'STOP_LOCATION_APARTMENT',\n",
       "       'STOP_LOCATION_FULL_ADDRESS', 'STOP_LOCATION_PREMISES_NAME',\n",
       "       'STOP_LOCATION_STREET_NAME', 'STOP_LOCATION_X', 'STOP_LOCATION_Y',\n",
       "       'STOP_LOCATION_ZIP_CODE', 'STOP_LOCATION_PATROL_BORO_NAME',\n",
       "       'STOP_LOCATION_BORO_NAME'],\n",
       "      dtype='object')"
      ]
     },
     "execution_count": 5,
     "metadata": {},
     "output_type": "execute_result"
    }
   ],
   "source": [
    "df_2017.columns"
   ]
  },
  {
   "cell_type": "code",
   "execution_count": 6,
   "metadata": {},
   "outputs": [],
   "source": [
    "df_reduced = df_2017[['STOP_FRISK_ID', 'STOP_FRISK_TIME', 'MONTH2', 'DAY2', 'SUSPECTED_CRIME_DESCRIPTION', 'STOP_DURATION_MINUTES', 'SUSPECT_ARRESTED_FLAG', 'FRISKED_FLAG', 'PHYSICAL_FORCE_WEAPON_IMPACT_FLAG', 'SUSPECT_REPORTED_AGE', 'SUSPECT_SEX', 'SUSPECT_RACE_DESCRIPTION', 'STOP_LOCATION_BORO_NAME']]\n"
   ]
  },
  {
   "cell_type": "code",
   "execution_count": 7,
   "metadata": {},
   "outputs": [
    {
     "data": {
      "text/html": [
       "<div>\n",
       "<style scoped>\n",
       "    .dataframe tbody tr th:only-of-type {\n",
       "        vertical-align: middle;\n",
       "    }\n",
       "\n",
       "    .dataframe tbody tr th {\n",
       "        vertical-align: top;\n",
       "    }\n",
       "\n",
       "    .dataframe thead th {\n",
       "        text-align: right;\n",
       "    }\n",
       "</style>\n",
       "<table border=\"1\" class=\"dataframe\">\n",
       "  <thead>\n",
       "    <tr style=\"text-align: right;\">\n",
       "      <th></th>\n",
       "      <th>STOP_FRISK_ID</th>\n",
       "      <th>STOP_FRISK_TIME</th>\n",
       "      <th>MONTH2</th>\n",
       "      <th>DAY2</th>\n",
       "      <th>SUSPECTED_CRIME_DESCRIPTION</th>\n",
       "      <th>STOP_DURATION_MINUTES</th>\n",
       "      <th>SUSPECT_ARRESTED_FLAG</th>\n",
       "      <th>FRISKED_FLAG</th>\n",
       "      <th>PHYSICAL_FORCE_WEAPON_IMPACT_FLAG</th>\n",
       "      <th>SUSPECT_REPORTED_AGE</th>\n",
       "      <th>SUSPECT_SEX</th>\n",
       "      <th>SUSPECT_RACE_DESCRIPTION</th>\n",
       "      <th>STOP_LOCATION_BORO_NAME</th>\n",
       "    </tr>\n",
       "  </thead>\n",
       "  <tbody>\n",
       "    <tr>\n",
       "      <th>0</th>\n",
       "      <td>1</td>\n",
       "      <td>14:26:00</td>\n",
       "      <td>January</td>\n",
       "      <td>Monday</td>\n",
       "      <td>TERRORISM</td>\n",
       "      <td>90</td>\n",
       "      <td>N</td>\n",
       "      <td>N</td>\n",
       "      <td>(null)</td>\n",
       "      <td>39</td>\n",
       "      <td>MALE</td>\n",
       "      <td>(null)</td>\n",
       "      <td>MANHATTAN</td>\n",
       "    </tr>\n",
       "    <tr>\n",
       "      <th>1</th>\n",
       "      <td>2</td>\n",
       "      <td>14:26:00</td>\n",
       "      <td>January</td>\n",
       "      <td>Monday</td>\n",
       "      <td>TERRORISM</td>\n",
       "      <td>90</td>\n",
       "      <td>N</td>\n",
       "      <td>N</td>\n",
       "      <td>(null)</td>\n",
       "      <td>37</td>\n",
       "      <td>MALE</td>\n",
       "      <td>(null)</td>\n",
       "      <td>MANHATTAN</td>\n",
       "    </tr>\n",
       "    <tr>\n",
       "      <th>2</th>\n",
       "      <td>3</td>\n",
       "      <td>11:10:00</td>\n",
       "      <td>February</td>\n",
       "      <td>Wednesday</td>\n",
       "      <td>OTHER</td>\n",
       "      <td>40</td>\n",
       "      <td>N</td>\n",
       "      <td>N</td>\n",
       "      <td>(null)</td>\n",
       "      <td>(null)</td>\n",
       "      <td>FEMALE</td>\n",
       "      <td>WHITE</td>\n",
       "      <td>MANHATTAN</td>\n",
       "    </tr>\n",
       "    <tr>\n",
       "      <th>3</th>\n",
       "      <td>4</td>\n",
       "      <td>11:35:00</td>\n",
       "      <td>February</td>\n",
       "      <td>Monday</td>\n",
       "      <td>GRAND LARCENY AUTO</td>\n",
       "      <td>40</td>\n",
       "      <td>N</td>\n",
       "      <td>Y</td>\n",
       "      <td>(null)</td>\n",
       "      <td>31</td>\n",
       "      <td>MALE</td>\n",
       "      <td>BLACK HISPANIC</td>\n",
       "      <td>MANHATTAN</td>\n",
       "    </tr>\n",
       "    <tr>\n",
       "      <th>4</th>\n",
       "      <td>5</td>\n",
       "      <td>13:20:00</td>\n",
       "      <td>February</td>\n",
       "      <td>Tuesday</td>\n",
       "      <td>BURGLARY</td>\n",
       "      <td>60</td>\n",
       "      <td>N</td>\n",
       "      <td>N</td>\n",
       "      <td>(null)</td>\n",
       "      <td>(null)</td>\n",
       "      <td>FEMALE</td>\n",
       "      <td>BLACK</td>\n",
       "      <td>MANHATTAN</td>\n",
       "    </tr>\n",
       "  </tbody>\n",
       "</table>\n",
       "</div>"
      ],
      "text/plain": [
       "   STOP_FRISK_ID STOP_FRISK_TIME    MONTH2       DAY2  \\\n",
       "0              1        14:26:00   January     Monday   \n",
       "1              2        14:26:00   January     Monday   \n",
       "2              3        11:10:00  February  Wednesday   \n",
       "3              4        11:35:00  February     Monday   \n",
       "4              5        13:20:00  February    Tuesday   \n",
       "\n",
       "  SUSPECTED_CRIME_DESCRIPTION  STOP_DURATION_MINUTES SUSPECT_ARRESTED_FLAG  \\\n",
       "0                   TERRORISM                     90                     N   \n",
       "1                   TERRORISM                     90                     N   \n",
       "2                       OTHER                     40                     N   \n",
       "3          GRAND LARCENY AUTO                     40                     N   \n",
       "4                    BURGLARY                     60                     N   \n",
       "\n",
       "  FRISKED_FLAG PHYSICAL_FORCE_WEAPON_IMPACT_FLAG SUSPECT_REPORTED_AGE  \\\n",
       "0            N                            (null)                   39   \n",
       "1            N                            (null)                   37   \n",
       "2            N                            (null)               (null)   \n",
       "3            Y                            (null)                   31   \n",
       "4            N                            (null)               (null)   \n",
       "\n",
       "  SUSPECT_SEX SUSPECT_RACE_DESCRIPTION STOP_LOCATION_BORO_NAME  \n",
       "0        MALE                   (null)               MANHATTAN  \n",
       "1        MALE                   (null)               MANHATTAN  \n",
       "2      FEMALE                    WHITE               MANHATTAN  \n",
       "3        MALE           BLACK HISPANIC               MANHATTAN  \n",
       "4      FEMALE                    BLACK               MANHATTAN  "
      ]
     },
     "execution_count": 7,
     "metadata": {},
     "output_type": "execute_result"
    }
   ],
   "source": [
    "df_reduced.head()"
   ]
  },
  {
   "cell_type": "code",
   "execution_count": 8,
   "metadata": {},
   "outputs": [],
   "source": [
    "df_reduced = df_reduced.set_index(\"STOP_FRISK_ID\")"
   ]
  },
  {
   "cell_type": "code",
   "execution_count": 60,
   "metadata": {},
   "outputs": [
    {
     "data": {
      "text/plain": [
       "array(['MANHATTAN', 'PBMS', '210334', '208760', '986759', 'PBMN', 'BRONX',\n",
       "       '(null)', 'PBBX', '237177', 'BROOKLYN', '155070', 'PBBS', 'QUEENS',\n",
       "       'PBBN', '190241', '208169', 'STATEN IS', 'PBSI'], dtype=object)"
      ]
     },
     "execution_count": 60,
     "metadata": {},
     "output_type": "execute_result"
    }
   ],
   "source": [
    "df_reduced[\"STOP_LOCATION_BORO_NAME\"].unique()"
   ]
  },
  {
   "cell_type": "code",
   "execution_count": 9,
   "metadata": {},
   "outputs": [],
   "source": [
    "df_reduced.to_csv(\"df_reduced.csv\")"
   ]
  },
  {
   "cell_type": "code",
   "execution_count": 76,
   "metadata": {},
   "outputs": [],
   "source": [
    "manhattan_df = df_reduced.loc[((df_reduced[\"STOP_LOCATION_BORO_NAME\"] == \"MANHATTAN\") | (df_reduced[\"STOP_LOCATION_BORO_NAME\"] == \"PBMS\") | (df_reduced[\"STOP_LOCATION_BORO_NAME\"] == \"PBMN\"))]\n",
    "brooklyn_df = df_reduced.loc[((df_reduced[\"STOP_LOCATION_BORO_NAME\"] == \"BROOKLYN\") | (df_reduced[\"STOP_LOCATION_BORO_NAME\"] == \"PBBS\") | (df_reduced[\"STOP_LOCATION_BORO_NAME\"] == \"PBBN\"))]\n",
    "bronx_df = df_reduced.loc[((df_reduced[\"STOP_LOCATION_BORO_NAME\"] == \"BRONX\") | (df_reduced[\"STOP_LOCATION_BORO_NAME\"] == \"PBBX\"))]\n",
    "queens_df = df_reduced.loc[df_reduced[\"STOP_LOCATION_BORO_NAME\"] == \"QUEENS\"]\n",
    "staten_df = df_reduced.loc[((df_reduced[\"STOP_LOCATION_BORO_NAME\"] == \"STATEN IS\") | (df_reduced[\"STOP_LOCATION_BORO_NAME\"] == \"PBSI\"))]\n",
    "unknown_df = df_reduced.loc[((df_reduced[\"STOP_LOCATION_BORO_NAME\"] == \"210334\") | (df_reduced[\"STOP_LOCATION_BORO_NAME\"] == \"208760\") | (df_reduced[\"STOP_LOCATION_BORO_NAME\"] == \"986759\") | (df_reduced[\"STOP_LOCATION_BORO_NAME\"] == \"(null)\") | (df_reduced[\"STOP_LOCATION_BORO_NAME\"] == \"237177\") | (df_reduced[\"STOP_LOCATION_BORO_NAME\"] == \"155070\") | (df_reduced[\"STOP_LOCATION_BORO_NAME\"] == \"190241\") | (df_reduced[\"STOP_LOCATION_BORO_NAME\"] == \"208169\"))]"
   ]
  },
  {
   "cell_type": "code",
   "execution_count": 78,
   "metadata": {},
   "outputs": [
    {
     "name": "stdout",
     "output_type": "stream",
     "text": [
      "  Geographic_Area  SQF_Stops\n",
      "0       Manhattan       2775\n",
      "1        Brooklyn       3332\n",
      "2           Bronx       2478\n",
      "3          Queens       2079\n",
      "4   Staten Island        547\n",
      "5         Unknown        418\n",
      "6   New York City      11629\n"
     ]
    }
   ],
   "source": [
    "# In which borough is the stop question and frisk technique most used? Least used?\n",
    "manhattan_stops = len(manhattan_df)\n",
    "brooklyn_stops = len(brooklyn_df)\n",
    "bronx_stops = len(bronx_df)\n",
    "queens_stops = len(queens_df)\n",
    "staten_stops = len(staten_df)\n",
    "unknown_stops = len(unknown_df)\n",
    "nyc_total_stops = staten_stops + queens_stops + brooklyn_stops + manhattan_stops + bronx_stops + unknown_stops\n",
    "\n",
    "stops_df = pd.DataFrame({\n",
    "    \"Geographic_Area\": [\"Manhattan\", \"Brooklyn\", \"Bronx\", \"Queens\", \"Staten Island\", \"Unknown\", \"New York City\"],\n",
    "    \"SQF_Stops\": [manhattan_stops, brooklyn_stops, bronx_stops, queens_stops, staten_stops, unknown_stops, nyc_total_stops]})\n",
    "print(stops_df)"
   ]
  },
  {
   "cell_type": "code",
   "execution_count": 79,
   "metadata": {},
   "outputs": [
    {
     "data": {
      "text/plain": [
       "(-1.113313716851525, 1.122314049304071, -1.112523017835321, 1.1187235929761163)"
      ]
     },
     "execution_count": 79,
     "metadata": {},
     "output_type": "execute_result"
    },
    {
     "data": {
      "image/png": "[encoded data removed]",
      "text/plain": [
       "<Figure size 432x288 with 1 Axes>"
      ]
     },
     "metadata": {},
     "output_type": "display_data"
    }
   ],
   "source": [
    "# Want to express the number of stops that occur in each borough as a percentage of all nypd stops; however, this number could tell us more about population\n",
    "#density than anything else. (this number could be misleading)\n",
    "\n",
    "borough_pie = [\"Manhattan\", \"Brooklyn\", \"Bronx\", \"Queens\", \"Staten Island\", \"Unknown\"]\n",
    "boro_sqf_values = [manhattan_stops, brooklyn_stops, bronx_stops, queens_stops, staten_stops, unknown_stops]\n",
    "boro_pie_colors = [\"lightcoral\", \"gold\", \"palegreen\", \"lightskyblue\", \"violet\", \"gainsboro\"]\n",
    "\n",
    "plt.pie(boro_sqf_values, labels=borough_pie, colors=boro_pie_colors, autopct=\"%1.1f%%\",\n",
    " shadow=True, startangle=140)\n",
    "# Create equal axes for nice circle\n",
    "plt.axis(\"equal\")"
   ]
  },
  {
   "cell_type": "code",
   "execution_count": 80,
   "metadata": {},
   "outputs": [
    {
     "name": "stdout",
     "output_type": "stream",
     "text": [
      "  Geographic_Area  Population\n",
      "0           Bronx     1471160\n",
      "1        Brooklyn     2648771\n",
      "2       Manhattan     1664727\n",
      "3          Queens     2358582\n",
      "4   Staten Island      479458\n",
      "5   New York City     8622698\n"
     ]
    }
   ],
   "source": [
    "# Number of stops relative to population of each borough \n",
    "# read in csv file \n",
    "Population_2017 = \"borough_population.csv\"\n",
    "pop = pd.read_csv(Population_2017)\n",
    "print(pop)"
   ]
  },
  {
   "cell_type": "code",
   "execution_count": 45,
   "metadata": {},
   "outputs": [
    {
     "data": {
      "text/plain": [
       "(-1.1159578555692895,\n",
       " 1.1173872549886033,\n",
       " -1.1115167783940745,\n",
       " 1.1100413255364991)"
      ]
     },
     "execution_count": 45,
     "metadata": {},
     "output_type": "execute_result"
    },
    {
     "data": {
      "image/png": "[encoded data removed]",
      "text/plain": [
       "<Figure size 432x288 with 1 Axes>"
      ]
     },
     "metadata": {},
     "output_type": "display_data"
    }
   ],
   "source": [
    "# Want to illustrate how total NYC population is distributed across boroughs.\n",
    "# Percentage of SQF in each borough should be roughly equal to the boroughs share of overall pop\n",
    "\n",
    "pop_pie = [\"Manhattan\", \"Brooklyn\", \"Bronx\", \"Queens\", \"Staten Island\"]\n",
    "pop_values = [1664727, 2648771, 1471160, 2358582, 479458]\n",
    "boro_pie_colors = [\"lightcoral\", \"gold\", \"palegreen\", \"lightskyblue\", \"violet\"]\n",
    "\n",
    "plt.pie(pop_values, labels=pop_pie, colors=boro_pie_colors, autopct=\"%1.1f%%\", shadow=True, startangle=140)\n",
    "# Create equal axes for nice circle\n",
    "plt.axis(\"equal\")\n"
   ]
  },
  {
   "cell_type": "code",
   "execution_count": 46,
   "metadata": {},
   "outputs": [],
   "source": [
    "# DISREGARD ===============================================================================================================\n",
    "#loc [row title, column title] -- retrieves value where row and column intersect\n",
    "#would have been easier to hard code values but wanted to practice \n",
    "#df_pop = df_pop.set_index(\"Geographic_Area\")\n",
    "#bronx_pop = df_pop.loc[\"Bronx\", \"Population\"]\n",
    "#brooklyn_pop = df_pop.loc[\"Brooklyn\", \"Population\"]\n",
    "#manhattan_pop = df_pop.loc[\"Manhattan\", \"Population\"]\n",
    "#queens_pop = df_pop.loc[\"Queens\", \"Population\"]\n",
    "#staten_pop = df_pop.loc[\"Staten Island\", \"Population\"]\n",
    "#nyc_pop = df_pop.loc[\"New York City\", \"Population\"]"
   ]
  },
  {
   "cell_type": "code",
   "execution_count": 47,
   "metadata": {},
   "outputs": [
    {
     "data": {
      "text/html": [
       "<div>\n",
       "<style scoped>\n",
       "    .dataframe tbody tr th:only-of-type {\n",
       "        vertical-align: middle;\n",
       "    }\n",
       "\n",
       "    .dataframe tbody tr th {\n",
       "        vertical-align: top;\n",
       "    }\n",
       "\n",
       "    .dataframe thead th {\n",
       "        text-align: right;\n",
       "    }\n",
       "</style>\n",
       "<table border=\"1\" class=\"dataframe\">\n",
       "  <thead>\n",
       "    <tr style=\"text-align: right;\">\n",
       "      <th></th>\n",
       "      <th>Geographic_Area</th>\n",
       "      <th>Population</th>\n",
       "      <th>SQF_Stops</th>\n",
       "      <th>Stops_by_Population</th>\n",
       "    </tr>\n",
       "  </thead>\n",
       "  <tbody>\n",
       "    <tr>\n",
       "      <th>0</th>\n",
       "      <td>Bronx</td>\n",
       "      <td>1471160</td>\n",
       "      <td>2473</td>\n",
       "      <td></td>\n",
       "    </tr>\n",
       "    <tr>\n",
       "      <th>1</th>\n",
       "      <td>Brooklyn</td>\n",
       "      <td>2648771</td>\n",
       "      <td>3328</td>\n",
       "      <td></td>\n",
       "    </tr>\n",
       "    <tr>\n",
       "      <th>2</th>\n",
       "      <td>Manhattan</td>\n",
       "      <td>1664727</td>\n",
       "      <td>2771</td>\n",
       "      <td></td>\n",
       "    </tr>\n",
       "    <tr>\n",
       "      <th>3</th>\n",
       "      <td>Queens</td>\n",
       "      <td>2358582</td>\n",
       "      <td>2079</td>\n",
       "      <td></td>\n",
       "    </tr>\n",
       "    <tr>\n",
       "      <th>4</th>\n",
       "      <td>Staten Island</td>\n",
       "      <td>479458</td>\n",
       "      <td>546</td>\n",
       "      <td></td>\n",
       "    </tr>\n",
       "    <tr>\n",
       "      <th>5</th>\n",
       "      <td>New York City</td>\n",
       "      <td>8622698</td>\n",
       "      <td>11197</td>\n",
       "      <td></td>\n",
       "    </tr>\n",
       "  </tbody>\n",
       "</table>\n",
       "</div>"
      ],
      "text/plain": [
       "  Geographic_Area  Population  SQF_Stops Stops_by_Population\n",
       "0           Bronx     1471160       2473                    \n",
       "1        Brooklyn     2648771       3328                    \n",
       "2       Manhattan     1664727       2771                    \n",
       "3          Queens     2358582       2079                    \n",
       "4   Staten Island      479458        546                    \n",
       "5   New York City     8622698      11197                    "
      ]
     },
     "execution_count": 47,
     "metadata": {},
     "output_type": "execute_result"
    }
   ],
   "source": [
    "combined_df = pd.merge(df_pop, stops_df, how=\"outer\", on=\"Geographic_Area\")\n",
    "combined_df[\"Stops_by_Population\"] = \"\"\n",
    "combined_df"
   ]
  },
  {
   "cell_type": "code",
   "execution_count": 48,
   "metadata": {},
   "outputs": [
    {
     "data": {
      "text/plain": [
       "Geographic_Area        object\n",
       "Population              int64\n",
       "SQF_Stops               int64\n",
       "Stops_by_Population    object\n",
       "dtype: object"
      ]
     },
     "execution_count": 48,
     "metadata": {},
     "output_type": "execute_result"
    }
   ],
   "source": [
    "combined_df.dtypes"
   ]
  },
  {
   "cell_type": "code",
   "execution_count": 49,
   "metadata": {},
   "outputs": [],
   "source": [
    "for index, row in combined_df.iterrows():\n",
    "    combined_df.loc[index, \"Stops_by_Population\"] = combined_df.loc[index, \"SQF_Stops\"]/combined_df.loc[index, \"Population\"]"
   ]
  },
  {
   "cell_type": "code",
   "execution_count": 50,
   "metadata": {},
   "outputs": [
    {
     "data": {
      "text/html": [
       "<div>\n",
       "<style scoped>\n",
       "    .dataframe tbody tr th:only-of-type {\n",
       "        vertical-align: middle;\n",
       "    }\n",
       "\n",
       "    .dataframe tbody tr th {\n",
       "        vertical-align: top;\n",
       "    }\n",
       "\n",
       "    .dataframe thead th {\n",
       "        text-align: right;\n",
       "    }\n",
       "</style>\n",
       "<table border=\"1\" class=\"dataframe\">\n",
       "  <thead>\n",
       "    <tr style=\"text-align: right;\">\n",
       "      <th></th>\n",
       "      <th>Geographic_Area</th>\n",
       "      <th>Population</th>\n",
       "      <th>SQF_Stops</th>\n",
       "      <th>Stops_by_Population</th>\n",
       "    </tr>\n",
       "  </thead>\n",
       "  <tbody>\n",
       "    <tr>\n",
       "      <th>0</th>\n",
       "      <td>Bronx</td>\n",
       "      <td>1471160</td>\n",
       "      <td>2473</td>\n",
       "      <td>0.00168099</td>\n",
       "    </tr>\n",
       "    <tr>\n",
       "      <th>1</th>\n",
       "      <td>Brooklyn</td>\n",
       "      <td>2648771</td>\n",
       "      <td>3328</td>\n",
       "      <td>0.00125643</td>\n",
       "    </tr>\n",
       "    <tr>\n",
       "      <th>2</th>\n",
       "      <td>Manhattan</td>\n",
       "      <td>1664727</td>\n",
       "      <td>2771</td>\n",
       "      <td>0.00166454</td>\n",
       "    </tr>\n",
       "    <tr>\n",
       "      <th>3</th>\n",
       "      <td>Queens</td>\n",
       "      <td>2358582</td>\n",
       "      <td>2079</td>\n",
       "      <td>0.000881462</td>\n",
       "    </tr>\n",
       "    <tr>\n",
       "      <th>4</th>\n",
       "      <td>Staten Island</td>\n",
       "      <td>479458</td>\n",
       "      <td>546</td>\n",
       "      <td>0.00113879</td>\n",
       "    </tr>\n",
       "    <tr>\n",
       "      <th>5</th>\n",
       "      <td>New York City</td>\n",
       "      <td>8622698</td>\n",
       "      <td>11197</td>\n",
       "      <td>0.00129855</td>\n",
       "    </tr>\n",
       "  </tbody>\n",
       "</table>\n",
       "</div>"
      ],
      "text/plain": [
       "  Geographic_Area  Population  SQF_Stops Stops_by_Population\n",
       "0           Bronx     1471160       2473          0.00168099\n",
       "1        Brooklyn     2648771       3328          0.00125643\n",
       "2       Manhattan     1664727       2771          0.00166454\n",
       "3          Queens     2358582       2079         0.000881462\n",
       "4   Staten Island      479458        546          0.00113879\n",
       "5   New York City     8622698      11197          0.00129855"
      ]
     },
     "execution_count": 50,
     "metadata": {},
     "output_type": "execute_result"
    }
   ],
   "source": [
    "combined_df"
   ]
  },
  {
   "cell_type": "code",
   "execution_count": 51,
   "metadata": {},
   "outputs": [
    {
     "data": {
      "text/html": [
       "<div>\n",
       "<style scoped>\n",
       "    .dataframe tbody tr th:only-of-type {\n",
       "        vertical-align: middle;\n",
       "    }\n",
       "\n",
       "    .dataframe tbody tr th {\n",
       "        vertical-align: top;\n",
       "    }\n",
       "\n",
       "    .dataframe thead th {\n",
       "        text-align: right;\n",
       "    }\n",
       "</style>\n",
       "<table border=\"1\" class=\"dataframe\">\n",
       "  <thead>\n",
       "    <tr style=\"text-align: right;\">\n",
       "      <th></th>\n",
       "      <th>Number_of_Stops</th>\n",
       "    </tr>\n",
       "  </thead>\n",
       "  <tbody>\n",
       "    <tr>\n",
       "      <th>Thursday</th>\n",
       "      <td>1801</td>\n",
       "    </tr>\n",
       "    <tr>\n",
       "      <th>Wednesday</th>\n",
       "      <td>1799</td>\n",
       "    </tr>\n",
       "    <tr>\n",
       "      <th>Saturday</th>\n",
       "      <td>1797</td>\n",
       "    </tr>\n",
       "    <tr>\n",
       "      <th>Tuesday</th>\n",
       "      <td>1721</td>\n",
       "    </tr>\n",
       "    <tr>\n",
       "      <th>Friday</th>\n",
       "      <td>1704</td>\n",
       "    </tr>\n",
       "    <tr>\n",
       "      <th>Sunday</th>\n",
       "      <td>1490</td>\n",
       "    </tr>\n",
       "    <tr>\n",
       "      <th>Monday</th>\n",
       "      <td>1317</td>\n",
       "    </tr>\n",
       "  </tbody>\n",
       "</table>\n",
       "</div>"
      ],
      "text/plain": [
       "           Number_of_Stops\n",
       "Thursday              1801\n",
       "Wednesday             1799\n",
       "Saturday              1797\n",
       "Tuesday               1721\n",
       "Friday                1704\n",
       "Sunday                1490\n",
       "Monday                1317"
      ]
     },
     "execution_count": 51,
     "metadata": {},
     "output_type": "execute_result"
    }
   ],
   "source": [
    "#find day counts overall using value_counts and create a dataframe\n",
    "total_days_df = pd.DataFrame(df_reduced[\"DAY2\"].value_counts())\n",
    "#rename column\n",
    "total_days_df.columns = [\"Number_of_Stops\"]\n",
    "total_days_df"
   ]
  },
  {
   "cell_type": "code",
   "execution_count": 82,
   "metadata": {},
   "outputs": [],
   "source": [
    "manhattan_days = pd.DataFrame(manhattan_df[\"DAY2\"].value_counts())\n",
    "manhattan_days.columns = [\"Number_of_Stops\"]\n",
    "\n",
    "brooklyn_days = pd.DataFrame(brooklyn_df[\"DAY2\"].value_counts())\n",
    "brooklyn_days.columns = [\"Number_of_Stops\"]\n",
    "\n",
    "bronx_days = pd.DataFrame(bronx_df[\"DAY2\"].value_counts())\n",
    "bronx_days.columns = [\"Number_of_Stops\"]\n",
    "\n",
    "queens_days = pd.DataFrame(queens_df[\"DAY2\"].value_counts())\n",
    "queens_days.columns = [\"Number_of_Stops\"]\n",
    "\n",
    "staten_days = pd.DataFrame(staten_df[\"DAY2\"].value_counts())\n",
    "staten_days.columns = [\"Number_of_Stops\"]\n",
    "\n",
    "unknown_days = pd.DataFrame(unknown_df[\"DAY2\"].value_counts())\n",
    "unknown_days.columns = [\"Number_of_Stops\"]"
   ]
  },
  {
   "cell_type": "code",
   "execution_count": 83,
   "metadata": {},
   "outputs": [
    {
     "name": "stderr",
     "output_type": "stream",
     "text": [
      "C:\\Users\\Rachael C. Amick\\anaconda\\Anaconda3\\lib\\site-packages\\ipykernel_launcher.py:1: FutureWarning: Sorting because non-concatenation axis is not aligned. A future version\n",
      "of pandas will change to not sort by default.\n",
      "\n",
      "To accept the future behavior, pass 'sort=False'.\n",
      "\n",
      "To retain the current behavior and silence the warning, pass 'sort=True'.\n",
      "\n",
      "  \"\"\"Entry point for launching an IPython kernel.\n"
     ]
    }
   ],
   "source": [
    "day_df = pd.concat([manhattan_days, brooklyn_days, bronx_days, queens_days, staten_days, unknown_days], axis=1)\n",
    "\n",
    "day_df.columns = [\"Manhattan_Stops\", \"Brooklyn_Stops\", \"Bronx_Stops\", \"Queens_Stops\", \"Staten_Island_Stops\", \"Unknown_Borough_Stops\"]"
   ]
  },
  {
   "cell_type": "code",
   "execution_count": 84,
   "metadata": {},
   "outputs": [
    {
     "data": {
      "text/html": [
       "<div>\n",
       "<style scoped>\n",
       "    .dataframe tbody tr th:only-of-type {\n",
       "        vertical-align: middle;\n",
       "    }\n",
       "\n",
       "    .dataframe tbody tr th {\n",
       "        vertical-align: top;\n",
       "    }\n",
       "\n",
       "    .dataframe thead th {\n",
       "        text-align: right;\n",
       "    }\n",
       "</style>\n",
       "<table border=\"1\" class=\"dataframe\">\n",
       "  <thead>\n",
       "    <tr style=\"text-align: right;\">\n",
       "      <th></th>\n",
       "      <th>Manhattan_Stops</th>\n",
       "      <th>Brooklyn_Stops</th>\n",
       "      <th>Bronx_Stops</th>\n",
       "      <th>Queens_Stops</th>\n",
       "      <th>Staten_Island_Stops</th>\n",
       "      <th>Unknown_Borough_Stops</th>\n",
       "    </tr>\n",
       "  </thead>\n",
       "  <tbody>\n",
       "    <tr>\n",
       "      <th>Friday</th>\n",
       "      <td>432</td>\n",
       "      <td>496</td>\n",
       "      <td>311</td>\n",
       "      <td>310</td>\n",
       "      <td>99</td>\n",
       "      <td>56</td>\n",
       "    </tr>\n",
       "    <tr>\n",
       "      <th>Monday</th>\n",
       "      <td>319</td>\n",
       "      <td>381</td>\n",
       "      <td>254</td>\n",
       "      <td>241</td>\n",
       "      <td>68</td>\n",
       "      <td>54</td>\n",
       "    </tr>\n",
       "    <tr>\n",
       "      <th>Saturday</th>\n",
       "      <td>374</td>\n",
       "      <td>533</td>\n",
       "      <td>427</td>\n",
       "      <td>320</td>\n",
       "      <td>79</td>\n",
       "      <td>64</td>\n",
       "    </tr>\n",
       "    <tr>\n",
       "      <th>Sunday</th>\n",
       "      <td>379</td>\n",
       "      <td>426</td>\n",
       "      <td>314</td>\n",
       "      <td>249</td>\n",
       "      <td>59</td>\n",
       "      <td>63</td>\n",
       "    </tr>\n",
       "    <tr>\n",
       "      <th>Thursday</th>\n",
       "      <td>412</td>\n",
       "      <td>498</td>\n",
       "      <td>398</td>\n",
       "      <td>343</td>\n",
       "      <td>87</td>\n",
       "      <td>63</td>\n",
       "    </tr>\n",
       "    <tr>\n",
       "      <th>Tuesday</th>\n",
       "      <td>416</td>\n",
       "      <td>494</td>\n",
       "      <td>390</td>\n",
       "      <td>289</td>\n",
       "      <td>70</td>\n",
       "      <td>62</td>\n",
       "    </tr>\n",
       "    <tr>\n",
       "      <th>Wednesday</th>\n",
       "      <td>443</td>\n",
       "      <td>504</td>\n",
       "      <td>384</td>\n",
       "      <td>327</td>\n",
       "      <td>85</td>\n",
       "      <td>56</td>\n",
       "    </tr>\n",
       "  </tbody>\n",
       "</table>\n",
       "</div>"
      ],
      "text/plain": [
       "           Manhattan_Stops  Brooklyn_Stops  Bronx_Stops  Queens_Stops  \\\n",
       "Friday                 432             496          311           310   \n",
       "Monday                 319             381          254           241   \n",
       "Saturday               374             533          427           320   \n",
       "Sunday                 379             426          314           249   \n",
       "Thursday               412             498          398           343   \n",
       "Tuesday                416             494          390           289   \n",
       "Wednesday              443             504          384           327   \n",
       "\n",
       "           Staten_Island_Stops  Unknown_Borough_Stops  \n",
       "Friday                      99                     56  \n",
       "Monday                      68                     54  \n",
       "Saturday                    79                     64  \n",
       "Sunday                      59                     63  \n",
       "Thursday                    87                     63  \n",
       "Tuesday                     70                     62  \n",
       "Wednesday                   85                     56  "
      ]
     },
     "execution_count": 84,
     "metadata": {},
     "output_type": "execute_result"
    }
   ],
   "source": [
    "day_df"
   ]
  },
  {
   "cell_type": "code",
   "execution_count": 57,
   "metadata": {},
   "outputs": [],
   "source": [
    "new_index= [\"Monday\", \"Tuesday\", \"Wednesday\", \"Thursday\", \"Friday\", \"Saturday\", \"Sunday\"]\n",
    "day_df = day_df.reindex(new_index)"
   ]
  },
  {
   "cell_type": "code",
   "execution_count": 85,
   "metadata": {},
   "outputs": [
    {
     "data": {
      "image/png": "[encoded data removed]",
      "text/plain": [
       "<Figure size 1440x720 with 1 Axes>"
      ]
     },
     "metadata": {
      "needs_background": "light"
     },
     "output_type": "display_data"
    }
   ],
   "source": [
    "multi_plot = day_df.plot(kind=\"bar\", colors=[\"lightcoral\", \"gold\", \"palegreen\", \"lightskyblue\", \"violet\", \"gainsboro\"], figsize=(20,10))\n",
    "plt.title(\"Stops by Day of the Week\")\n",
    "plt.xlabel(\"Day of the Week\")\n",
    "plt.ylabel(\"Stops\")\n",
    "plt.savefig(\"StopsbyDay.png\")"
   ]
  },
  {
   "cell_type": "code",
   "execution_count": null,
   "metadata": {},
   "outputs": [],
   "source": []
  }
 ],
 "metadata": {
  "kernelspec": {
   "display_name": "Python 3",
   "language": "python",
   "name": "python3"
  },
  "language_info": {
   "codemirror_mode": {
    "name": "ipython",
    "version": 3
   },
   "file_extension": ".py",
   "mimetype": "text/x-python",
   "name": "python",
   "nbconvert_exporter": "python",
   "pygments_lexer": "ipython3",
   "version": "3.6.6"
  }
 },
 "nbformat": 4,
 "nbformat_minor": 2
}
