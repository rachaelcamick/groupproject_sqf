{
 "cells": [
  {
   "cell_type": "code",
   "execution_count": 1,
   "metadata": {},
   "outputs": [],
   "source": [
    "import pandas as pd\n",
    "import matplotlib.pyplot as plt\n",
    "import numpy as np\n",
    "import csv\n",
    "import os"
   ]
  },
  {
   "cell_type": "code",
   "execution_count": 2,
   "metadata": {},
   "outputs": [],
   "source": [
    "file = 'df_reduced.csv'\n",
    "reduced = pd.read_csv(file)"
   ]
  },
  {
   "cell_type": "code",
   "execution_count": 3,
   "metadata": {},
   "outputs": [],
   "source": [
    "reduced_more = pd.DataFrame(reduced)\n"
   ]
  },
  {
   "cell_type": "code",
   "execution_count": 4,
   "metadata": {},
   "outputs": [
    {
     "data": {
      "text/html": [
       "<div>\n",
       "<style scoped>\n",
       "    .dataframe tbody tr th:only-of-type {\n",
       "        vertical-align: middle;\n",
       "    }\n",
       "\n",
       "    .dataframe tbody tr th {\n",
       "        vertical-align: top;\n",
       "    }\n",
       "\n",
       "    .dataframe thead th {\n",
       "        text-align: right;\n",
       "    }\n",
       "</style>\n",
       "<table border=\"1\" class=\"dataframe\">\n",
       "  <thead>\n",
       "    <tr style=\"text-align: right;\">\n",
       "      <th></th>\n",
       "      <th>STOP_FRISK_ID</th>\n",
       "      <th>STOP_FRISK_TIME</th>\n",
       "      <th>MONTH2</th>\n",
       "      <th>DAY2</th>\n",
       "      <th>SUSPECTED_CRIME_DESCRIPTION</th>\n",
       "      <th>STOP_DURATION_MINUTES</th>\n",
       "      <th>SUSPECT_ARRESTED_FLAG</th>\n",
       "      <th>FRISKED_FLAG</th>\n",
       "      <th>PHYSICAL_FORCE_WEAPON_IMPACT_FLAG</th>\n",
       "      <th>SUSPECT_REPORTED_AGE</th>\n",
       "      <th>SUSPECT_SEX</th>\n",
       "      <th>SUSPECT_RACE_DESCRIPTION</th>\n",
       "      <th>STOP_LOCATION_BORO_NAME</th>\n",
       "    </tr>\n",
       "  </thead>\n",
       "  <tbody>\n",
       "    <tr>\n",
       "      <th>5</th>\n",
       "      <td>6</td>\n",
       "      <td>21:25:00</td>\n",
       "      <td>February</td>\n",
       "      <td>Friday</td>\n",
       "      <td>CPW</td>\n",
       "      <td>10</td>\n",
       "      <td>Y</td>\n",
       "      <td>Y</td>\n",
       "      <td>(null)</td>\n",
       "      <td>39</td>\n",
       "      <td>MALE</td>\n",
       "      <td>WHITE HISPANIC</td>\n",
       "      <td>MANHATTAN</td>\n",
       "    </tr>\n",
       "    <tr>\n",
       "      <th>6</th>\n",
       "      <td>7</td>\n",
       "      <td>20:00:00</td>\n",
       "      <td>February</td>\n",
       "      <td>Saturday</td>\n",
       "      <td>CPW</td>\n",
       "      <td>3</td>\n",
       "      <td>N</td>\n",
       "      <td>N</td>\n",
       "      <td>(null)</td>\n",
       "      <td>19</td>\n",
       "      <td>FEMALE</td>\n",
       "      <td>BLACK</td>\n",
       "      <td>MANHATTAN</td>\n",
       "    </tr>\n",
       "    <tr>\n",
       "      <th>7</th>\n",
       "      <td>8</td>\n",
       "      <td>19:58:00</td>\n",
       "      <td>February</td>\n",
       "      <td>Saturday</td>\n",
       "      <td>CPW</td>\n",
       "      <td>3</td>\n",
       "      <td>N</td>\n",
       "      <td>Y</td>\n",
       "      <td>(null)</td>\n",
       "      <td>15</td>\n",
       "      <td>FEMALE</td>\n",
       "      <td>BLACK</td>\n",
       "      <td>MANHATTAN</td>\n",
       "    </tr>\n",
       "  </tbody>\n",
       "</table>\n",
       "</div>"
      ],
      "text/plain": [
       "   STOP_FRISK_ID STOP_FRISK_TIME    MONTH2      DAY2  \\\n",
       "5              6        21:25:00  February    Friday   \n",
       "6              7        20:00:00  February  Saturday   \n",
       "7              8        19:58:00  February  Saturday   \n",
       "\n",
       "  SUSPECTED_CRIME_DESCRIPTION  STOP_DURATION_MINUTES SUSPECT_ARRESTED_FLAG  \\\n",
       "5                         CPW                     10                     Y   \n",
       "6                         CPW                      3                     N   \n",
       "7                         CPW                      3                     N   \n",
       "\n",
       "  FRISKED_FLAG PHYSICAL_FORCE_WEAPON_IMPACT_FLAG SUSPECT_REPORTED_AGE  \\\n",
       "5            Y                            (null)                   39   \n",
       "6            N                            (null)                   19   \n",
       "7            Y                            (null)                   15   \n",
       "\n",
       "  SUSPECT_SEX SUSPECT_RACE_DESCRIPTION STOP_LOCATION_BORO_NAME  \n",
       "5        MALE           WHITE HISPANIC               MANHATTAN  \n",
       "6      FEMALE                    BLACK               MANHATTAN  \n",
       "7      FEMALE                    BLACK               MANHATTAN  "
      ]
     },
     "execution_count": 4,
     "metadata": {},
     "output_type": "execute_result"
    }
   ],
   "source": [
    "searchfor_crime = ['CPW', 'ASSAULT', 'ROBBERY', 'CRIMINAL TRESPASS', 'PETIT LARCENY']\n",
    "\n",
    "reduced_more_crime = reduced_more[reduced_more['SUSPECTED_CRIME_DESCRIPTION'].str.contains('|'.join(searchfor_crime))]\n",
    "reduced_more_crime.head(3)"
   ]
  },
  {
   "cell_type": "code",
   "execution_count": 5,
   "metadata": {},
   "outputs": [
    {
     "name": "stderr",
     "output_type": "stream",
     "text": [
      "C:\\Users\\cobin\\Anaconda3\\lib\\site-packages\\ipykernel_launcher.py:3: UserWarning: This pattern has match groups. To actually get the groups, use str.extract.\n",
      "  This is separate from the ipykernel package so we can avoid doing imports until\n"
     ]
    },
    {
     "data": {
      "text/html": [
       "<div>\n",
       "<style scoped>\n",
       "    .dataframe tbody tr th:only-of-type {\n",
       "        vertical-align: middle;\n",
       "    }\n",
       "\n",
       "    .dataframe tbody tr th {\n",
       "        vertical-align: top;\n",
       "    }\n",
       "\n",
       "    .dataframe thead th {\n",
       "        text-align: right;\n",
       "    }\n",
       "</style>\n",
       "<table border=\"1\" class=\"dataframe\">\n",
       "  <thead>\n",
       "    <tr style=\"text-align: right;\">\n",
       "      <th></th>\n",
       "      <th>STOP_FRISK_ID</th>\n",
       "      <th>STOP_FRISK_TIME</th>\n",
       "      <th>MONTH2</th>\n",
       "      <th>DAY2</th>\n",
       "      <th>SUSPECTED_CRIME_DESCRIPTION</th>\n",
       "      <th>STOP_DURATION_MINUTES</th>\n",
       "      <th>SUSPECT_ARRESTED_FLAG</th>\n",
       "      <th>FRISKED_FLAG</th>\n",
       "      <th>PHYSICAL_FORCE_WEAPON_IMPACT_FLAG</th>\n",
       "      <th>SUSPECT_REPORTED_AGE</th>\n",
       "      <th>SUSPECT_SEX</th>\n",
       "      <th>SUSPECT_RACE_DESCRIPTION</th>\n",
       "      <th>STOP_LOCATION_BORO_NAME</th>\n",
       "    </tr>\n",
       "  </thead>\n",
       "  <tbody>\n",
       "    <tr>\n",
       "      <th>11624</th>\n",
       "      <td>11625</td>\n",
       "      <td>12:20:00</td>\n",
       "      <td>December</td>\n",
       "      <td>Friday</td>\n",
       "      <td>ROBBERY</td>\n",
       "      <td>10</td>\n",
       "      <td>Y</td>\n",
       "      <td>Y</td>\n",
       "      <td>(null)</td>\n",
       "      <td>22</td>\n",
       "      <td>MALE</td>\n",
       "      <td>BLACK</td>\n",
       "      <td>(null)</td>\n",
       "    </tr>\n",
       "    <tr>\n",
       "      <th>11625</th>\n",
       "      <td>11626</td>\n",
       "      <td>4:10:00</td>\n",
       "      <td>December</td>\n",
       "      <td>Wednesday</td>\n",
       "      <td>CPW</td>\n",
       "      <td>5</td>\n",
       "      <td>N</td>\n",
       "      <td>Y</td>\n",
       "      <td>(null)</td>\n",
       "      <td>31</td>\n",
       "      <td>MALE</td>\n",
       "      <td>WHITE HISPANIC</td>\n",
       "      <td>BROOKLYN</td>\n",
       "    </tr>\n",
       "    <tr>\n",
       "      <th>11626</th>\n",
       "      <td>11627</td>\n",
       "      <td>23:45:00</td>\n",
       "      <td>October</td>\n",
       "      <td>Saturday</td>\n",
       "      <td>CPW</td>\n",
       "      <td>2</td>\n",
       "      <td>Y</td>\n",
       "      <td>Y</td>\n",
       "      <td>(null)</td>\n",
       "      <td>50</td>\n",
       "      <td>MALE</td>\n",
       "      <td>BLACK</td>\n",
       "      <td>(null)</td>\n",
       "    </tr>\n",
       "  </tbody>\n",
       "</table>\n",
       "</div>"
      ],
      "text/plain": [
       "       STOP_FRISK_ID STOP_FRISK_TIME    MONTH2       DAY2  \\\n",
       "11624          11625        12:20:00  December     Friday   \n",
       "11625          11626         4:10:00  December  Wednesday   \n",
       "11626          11627        23:45:00   October   Saturday   \n",
       "\n",
       "      SUSPECTED_CRIME_DESCRIPTION  STOP_DURATION_MINUTES  \\\n",
       "11624                     ROBBERY                     10   \n",
       "11625                         CPW                      5   \n",
       "11626                         CPW                      2   \n",
       "\n",
       "      SUSPECT_ARRESTED_FLAG FRISKED_FLAG PHYSICAL_FORCE_WEAPON_IMPACT_FLAG  \\\n",
       "11624                     Y            Y                            (null)   \n",
       "11625                     N            Y                            (null)   \n",
       "11626                     Y            Y                            (null)   \n",
       "\n",
       "      SUSPECT_REPORTED_AGE SUSPECT_SEX SUSPECT_RACE_DESCRIPTION  \\\n",
       "11624                   22        MALE                    BLACK   \n",
       "11625                   31        MALE           WHITE HISPANIC   \n",
       "11626                   50        MALE                    BLACK   \n",
       "\n",
       "      STOP_LOCATION_BORO_NAME  \n",
       "11624                  (null)  \n",
       "11625                BROOKLYN  \n",
       "11626                  (null)  "
      ]
     },
     "execution_count": 5,
     "metadata": {},
     "output_type": "execute_result"
    }
   ],
   "source": [
    "searchfor = ['BROOKLYN', 'MANHATTAN', 'BRONX', 'QUEENS', 'STATEN IS', '(null)']\n",
    "\n",
    "reduced_more_crime_and_location = reduced_more_crime[reduced_more_crime['STOP_LOCATION_BORO_NAME'].str.contains('|'.join(searchfor))]\n",
    "reduced_more_crime_and_location.tail(3)"
   ]
  },
  {
   "cell_type": "code",
   "execution_count": 6,
   "metadata": {},
   "outputs": [
    {
     "data": {
      "text/plain": [
       "CPW                  3151\n",
       "ROBBERY              1708\n",
       "ASSAULT              1307\n",
       "CRIMINAL TRESPASS     956\n",
       "PETIT LARCENY         852\n",
       "Name: SUSPECTED_CRIME_DESCRIPTION, dtype: int64"
      ]
     },
     "execution_count": 6,
     "metadata": {},
     "output_type": "execute_result"
    }
   ],
   "source": [
    "reduced_more_crime_and_location['SUSPECTED_CRIME_DESCRIPTION'].value_counts()"
   ]
  },
  {
   "cell_type": "code",
   "execution_count": 7,
   "metadata": {},
   "outputs": [
    {
     "data": {
      "text/plain": [
       "BROOKLYN     2176\n",
       "MANHATTAN    2003\n",
       "BRONX        1810\n",
       "QUEENS       1338\n",
       "STATEN IS     365\n",
       "(null)        282\n",
       "Name: STOP_LOCATION_BORO_NAME, dtype: int64"
      ]
     },
     "execution_count": 7,
     "metadata": {},
     "output_type": "execute_result"
    }
   ],
   "source": [
    "reduced_more_crime_and_location['STOP_LOCATION_BORO_NAME'].value_counts()"
   ]
  },
  {
   "cell_type": "code",
   "execution_count": 39,
   "metadata": {},
   "outputs": [],
   "source": [
    "cpw_df = reduced_more_crime_and_location.loc[reduced_more_crime_and_location[\"SUSPECTED_CRIME_DESCRIPTION\"] == \"CPW\", :]\n",
    "robbery_df = reduced_more_crime_and_location.loc[reduced_more_crime_and_location[\"SUSPECTED_CRIME_DESCRIPTION\"] == \"ROBBERY\", :]\n",
    "assault_df = reduced_more_crime_and_location.loc[reduced_more_crime_and_location[\"SUSPECTED_CRIME_DESCRIPTION\"] == \"ASSAULT\", :]\n",
    "criminal_trespass_df = reduced_more_crime_and_location.loc[reduced_more_crime_and_location[\"SUSPECTED_CRIME_DESCRIPTION\"] == \"CRIMINAL TRESPASS\", :]\n",
    "petit_df = reduced_more_crime_and_location.loc[reduced_more_crime_and_location[\"SUSPECTED_CRIME_DESCRIPTION\"] == \"PETIT LARCENY\", :]"
   ]
  },
  {
   "cell_type": "code",
   "execution_count": 40,
   "metadata": {},
   "outputs": [],
   "source": [
    "#reduced_more = reduced_more.drop(reduced_more['SUSPECTED_CRIME_DESCRIPTION'] != 'ASSAULT')"
   ]
  },
  {
   "cell_type": "code",
   "execution_count": 41,
   "metadata": {},
   "outputs": [],
   "source": [
    "#boro = reduced.loc[\n",
    "#boro.head(3)"
   ]
  },
  {
   "cell_type": "code",
   "execution_count": 42,
   "metadata": {},
   "outputs": [],
   "source": [
    "#clean_df = pd.merge(boro, top, on=\"STOP_FRISK_ID\")\n",
    "#clean_df.head(100)"
   ]
  },
  {
   "cell_type": "code",
   "execution_count": 12,
   "metadata": {},
   "outputs": [],
   "source": [
    "#df[\"Column Name\"].replace(\"thing you want to replace\", np.nan, inplace=True)\n"
   ]
  },
  {
   "cell_type": "code",
   "execution_count": 13,
   "metadata": {
    "scrolled": true
   },
   "outputs": [],
   "source": [
    "by_boro = reduced_more_crime_and_location.groupby(['STOP_LOCATION_BORO_NAME'])\n"
   ]
  },
  {
   "cell_type": "code",
   "execution_count": 14,
   "metadata": {
    "scrolled": true
   },
   "outputs": [],
   "source": [
    "#boro.count()"
   ]
  },
  {
   "cell_type": "code",
   "execution_count": 15,
   "metadata": {},
   "outputs": [],
   "source": [
    "#reduced_more.plot(x = \"STOP_LOCATION_BORO_NAME\" , y = \"SUSPECTED_CRIME_DESCRIPTION\", kind = \"bar\")"
   ]
  },
  {
   "cell_type": "code",
   "execution_count": 16,
   "metadata": {},
   "outputs": [
    {
     "name": "stdout",
     "output_type": "stream",
     "text": [
      "                                                     SUSPECTED_CRIME_DESCRIPTION\n",
      "STOP_LOCATION_BORO_NAME SUSPECTED_CRIME_DESCRIPTION                             \n",
      "(null)                  CPW                                                  142\n",
      "                        ROBBERY                                               55\n",
      "                        ASSAULT                                               48\n",
      "                        CRIMINAL TRESPASS                                     25\n",
      "                        PETIT LARCENY                                         12\n",
      "BRONX                   CPW                                                  892\n",
      "                        ROBBERY                                              421\n",
      "                        ASSAULT                                              268\n",
      "                        PETIT LARCENY                                        115\n",
      "                        CRIMINAL TRESPASS                                    114\n",
      "BROOKLYN                CPW                                                  800\n",
      "                        ROBBERY                                              483\n",
      "                        ASSAULT                                              376\n",
      "                        PETIT LARCENY                                        266\n",
      "                        CRIMINAL TRESPASS                                    251\n",
      "MANHATTAN               CPW                                                  651\n",
      "                        CRIMINAL TRESPASS                                    442\n",
      "                        ROBBERY                                              344\n",
      "                        ASSAULT                                              335\n",
      "                        PETIT LARCENY                                        231\n",
      "QUEENS                  CPW                                                  541\n",
      "                        ROBBERY                                              327\n",
      "                        ASSAULT                                              227\n",
      "                        PETIT LARCENY                                        143\n",
      "                        CRIMINAL TRESPASS                                    100\n",
      "STATEN IS               CPW                                                  125\n",
      "                        PETIT LARCENY                                         85\n",
      "                        ROBBERY                                               78\n",
      "                        ASSAULT                                               53\n",
      "                        CRIMINAL TRESPASS                                     24\n"
     ]
    }
   ],
   "source": [
    "crime = pd.DataFrame(by_boro[\"SUSPECTED_CRIME_DESCRIPTION\"].value_counts())\n",
    "print(crime)"
   ]
  },
  {
   "cell_type": "code",
   "execution_count": 25,
   "metadata": {
    "scrolled": true
   },
   "outputs": [
    {
     "data": {
      "text/plain": [
       "Text(0,0.5,'Number of Stops')"
      ]
     },
     "execution_count": 25,
     "metadata": {},
     "output_type": "execute_result"
    },
    {
     "data": {
      "image/png": "[encoded data removed]",
      "text/plain": [
       "<Figure size 432x288 with 1 Axes>"
      ]
     },
     "metadata": {
      "needs_background": "light"
     },
     "output_type": "display_data"
    }
   ],
   "source": [
    "crime.plot(kind = \"bar\", colors = [\"lightcoral\", \"gold\", \"palegreen\", \"lightskyblue\", \"violet\"])\n",
    "plt.title(\"Top 5 Suspected Crimes\")\n",
    "plt.xlabel(\"Top Suspected Crimes\")\n",
    "plt.ylabel(\"Number of Stops\")\n"
   ]
  },
  {
   "cell_type": "code",
   "execution_count": 50,
   "metadata": {},
   "outputs": [],
   "source": [
    "cpw = pd.DataFrame(cpw_df[\"STOP_LOCATION_BORO_NAME\"].value_counts())\n",
    "cpw.columns = [\"Boro\"]\n",
    "\n",
    "robbery = pd.DataFrame(robbery_df[\"STOP_LOCATION_BORO_NAME\"].value_counts())\n",
    "robbery.columns = [\"Boro\"]\n",
    "\n",
    "assault = pd.DataFrame(assault_df[\"STOP_LOCATION_BORO_NAME\"].value_counts())\n",
    "assault.columns = [\"Boro\"]\n",
    "\n",
    "criminal_trespass = pd.DataFrame(criminal_trespass_df[\"STOP_LOCATION_BORO_NAME\"].value_counts())\n",
    "criminal_trespass.columns = [\"Boro\"]\n",
    "\n",
    "petit = pd.DataFrame(petit_df[\"STOP_LOCATION_BORO_NAME\"].value_counts())\n",
    "petit.columns = [\"Boro\"]\n",
    "\n",
    "\n"
   ]
  },
  {
   "cell_type": "code",
   "execution_count": 51,
   "metadata": {},
   "outputs": [
    {
     "name": "stderr",
     "output_type": "stream",
     "text": [
      "C:\\Users\\cobin\\Anaconda3\\lib\\site-packages\\ipykernel_launcher.py:1: FutureWarning: Sorting because non-concatenation axis is not aligned. A future version\n",
      "of pandas will change to not sort by default.\n",
      "\n",
      "To accept the future behavior, pass 'sort=False'.\n",
      "\n",
      "To retain the current behavior and silence the warning, pass 'sort=True'.\n",
      "\n",
      "  \"\"\"Entry point for launching an IPython kernel.\n"
     ]
    }
   ],
   "source": [
    "suspected_df = pd.concat([cpw, robbery, assault, criminal_trespass, petit], axis=1)\n",
    "\n",
    "#day_df = day_df.reset_index()\n",
    "suspected_df.columns = ['CPW', 'Robbery', 'Assault', 'Criminal Trespass', 'Petty Larcany']"
   ]
  },
  {
   "cell_type": "code",
   "execution_count": 52,
   "metadata": {},
   "outputs": [
    {
     "data": {
      "text/html": [
       "<div>\n",
       "<style scoped>\n",
       "    .dataframe tbody tr th:only-of-type {\n",
       "        vertical-align: middle;\n",
       "    }\n",
       "\n",
       "    .dataframe tbody tr th {\n",
       "        vertical-align: top;\n",
       "    }\n",
       "\n",
       "    .dataframe thead th {\n",
       "        text-align: right;\n",
       "    }\n",
       "</style>\n",
       "<table border=\"1\" class=\"dataframe\">\n",
       "  <thead>\n",
       "    <tr style=\"text-align: right;\">\n",
       "      <th></th>\n",
       "      <th>CPW</th>\n",
       "      <th>Robbery</th>\n",
       "      <th>Assault</th>\n",
       "      <th>Criminal Trespass</th>\n",
       "      <th>Petty Larcany</th>\n",
       "    </tr>\n",
       "  </thead>\n",
       "  <tbody>\n",
       "    <tr>\n",
       "      <th>(null)</th>\n",
       "      <td>142</td>\n",
       "      <td>55</td>\n",
       "      <td>48</td>\n",
       "      <td>25</td>\n",
       "      <td>12</td>\n",
       "    </tr>\n",
       "    <tr>\n",
       "      <th>BRONX</th>\n",
       "      <td>892</td>\n",
       "      <td>421</td>\n",
       "      <td>268</td>\n",
       "      <td>114</td>\n",
       "      <td>115</td>\n",
       "    </tr>\n",
       "    <tr>\n",
       "      <th>BROOKLYN</th>\n",
       "      <td>800</td>\n",
       "      <td>483</td>\n",
       "      <td>376</td>\n",
       "      <td>251</td>\n",
       "      <td>266</td>\n",
       "    </tr>\n",
       "    <tr>\n",
       "      <th>MANHATTAN</th>\n",
       "      <td>651</td>\n",
       "      <td>344</td>\n",
       "      <td>335</td>\n",
       "      <td>442</td>\n",
       "      <td>231</td>\n",
       "    </tr>\n",
       "    <tr>\n",
       "      <th>QUEENS</th>\n",
       "      <td>541</td>\n",
       "      <td>327</td>\n",
       "      <td>227</td>\n",
       "      <td>100</td>\n",
       "      <td>143</td>\n",
       "    </tr>\n",
       "    <tr>\n",
       "      <th>STATEN IS</th>\n",
       "      <td>125</td>\n",
       "      <td>78</td>\n",
       "      <td>53</td>\n",
       "      <td>24</td>\n",
       "      <td>85</td>\n",
       "    </tr>\n",
       "  </tbody>\n",
       "</table>\n",
       "</div>"
      ],
      "text/plain": [
       "           CPW  Robbery  Assault  Criminal Trespass  Petty Larcany\n",
       "(null)     142       55       48                 25             12\n",
       "BRONX      892      421      268                114            115\n",
       "BROOKLYN   800      483      376                251            266\n",
       "MANHATTAN  651      344      335                442            231\n",
       "QUEENS     541      327      227                100            143\n",
       "STATEN IS  125       78       53                 24             85"
      ]
     },
     "execution_count": 52,
     "metadata": {},
     "output_type": "execute_result"
    }
   ],
   "source": [
    "suspected_df"
   ]
  },
  {
   "cell_type": "code",
   "execution_count": 55,
   "metadata": {},
   "outputs": [],
   "source": [
    "new_index= [\"BRONX\", \"BROOKLYN\", \"MANHATTAN\", \"QUEENS\", \"STATEN IS\", \"(null)\"]\n",
    "suspected_df = suspected_df.reindex(new_index)"
   ]
  },
  {
   "cell_type": "code",
   "execution_count": 81,
   "metadata": {
    "scrolled": true
   },
   "outputs": [
    {
     "data": {
      "image/png": "[encoded data removed]",
      "text/plain": [
       "<Figure size 1080x360 with 1 Axes>"
      ]
     },
     "metadata": {
      "needs_background": "light"
     },
     "output_type": "display_data"
    }
   ],
   "source": [
    "plt.rcParams.update({'font.size': 20})\n",
    "suspected_df.plot(kind=\"bar\", colors=[\"lightcoral\", \"gold\", \"palegreen\", \"lightskyblue\", \"violet\"], figsize=(15,5))\n",
    "plt.title(\"Top 5 Suspected Crimes\")\n",
    "plt.xlabel(\"Top Suspected Crimes\")\n",
    "plt.ylabel(\"Number of Stops\")\n",
    "plt.savefig(\"Suspected Crime vs Boro.png\")\n",
    "plt.show()"
   ]
  },
  {
   "cell_type": "code",
   "execution_count": 57,
   "metadata": {},
   "outputs": [],
   "source": []
  },
  {
   "cell_type": "code",
   "execution_count": null,
   "metadata": {},
   "outputs": [],
   "source": []
  }
 ],
 "metadata": {
  "kernelspec": {
   "display_name": "Python 3",
   "language": "python",
   "name": "python3"
  },
  "language_info": {
   "codemirror_mode": {
    "name": "ipython",
    "version": 3
   },
   "file_extension": ".py",
   "mimetype": "text/x-python",
   "name": "python",
   "nbconvert_exporter": "python",
   "pygments_lexer": "ipython3",
   "version": "3.6.6"
  }
 },
 "nbformat": 4,
 "nbformat_minor": 2
}
